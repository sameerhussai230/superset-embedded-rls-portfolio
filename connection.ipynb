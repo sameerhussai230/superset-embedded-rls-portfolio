{
 "cells": [
  {
   "cell_type": "code",
   "execution_count": 25,
   "id": "12578744",
   "metadata": {},
   "outputs": [
    {
     "name": "stdout",
     "output_type": "stream",
     "text": [
      "    ID         JobID JobType  CompanyID  BranchID  DepartmentID  DesignationID  EmployeeStatus  PayGradeID  ExpreinceFrom  ExpreinceTo  PriorityID ExpectedDate QualificationID                                             Duties                                        Description  ReferralAmount RoundID  TotalPosition Skill RequisitionID  Status JobStatus  ClientID  ReplacementID  ClientReplacementEmployeeId  EmployeeID Budget               CreatedOn  CreatedBy CreatedMachineIp               UpdatedOn  UpdatedBy UpdatedMachineIp Preference JDFilePath       JobTitle  HiringManager ClientHiringManager ClosureDate IsPublished  RefCurrencyId  RefAvailableTo  SelectiontypeId  IsRefferd  IsScreening Comment IsCareerPublished ImochaAssessmentSetId ImochaAssessmentSetName ImochaAssessmentDuration ImochaRoundId ImochaRoundName\n",
      "0  1.0  082021-00001     New          1         3             4              0               3           0              2           10           0   2021-09-04               1  Job and Responsibility\\n\\nshould have expert L...  Job and Responsibility\\n\\nshould have expert L...             0.0   2,3,4              2     2             1       2  Approved         0              0                            0           1   None 2021-08-20 12:05:47.927          1    103.61.252.31 2021-08-20 12:07:03.153          1    103.61.252.31          0       None  Sr. Developer             10                None        None        None              0           False                1      False        False    None              None                  None                    None                     None          None            None\n"
     ]
    },
    {
     "name": "stderr",
     "output_type": "stream",
     "text": [
      "C:\\Users\\SAMEER\\AppData\\Local\\Temp\\ipykernel_18980\\1619819868.py:27: UserWarning: pandas only supports SQLAlchemy connectable (engine/connection) or database string URI or sqlite3 DBAPI2 connection. Other DBAPI2 objects are not tested. Please consider using SQLAlchemy.\n",
      "  result_df = pd.read_sql(query, conn)\n"
     ]
    }
   ],
   "source": [
    "# Ensure the connection is established before running this cell\n",
    "if conn is None:\n",
    "    try:\n",
    "        conn = pymssql.connect(\n",
    "            server=SQLSERVER_CONFIG[\"HOST\"],\n",
    "            user=SQLSERVER_CONFIG[\"USER\"],\n",
    "            password=SQLSERVER_CONFIG[\"PASSWORD\"],\n",
    "            database=SQLSERVER_CONFIG[\"DATABASE\"],\n",
    "            port=SQLSERVER_CONFIG[\"PORT\"]\n",
    "        )\n",
    "        print(\"Connection established successfully.\")\n",
    "    except Exception as e:\n",
    "        print(\"Error establishing connection:\", e)\n",
    "        # Optionally, you could exit or raise an error here.\n",
    "\n",
    "# Specify the table name you want to query; change this value as needed.\n",
    "table_name = \"NREC_addjob\"  # Replace with the actual table name\n",
    "\n",
    "# Set pandas display options to ensure a wide view with all columns visible.\n",
    "pd.set_option(\"display.max_columns\", None)\n",
    "pd.set_option(\"display.width\", None)\n",
    "\n",
    "# Construct and execute the SQL query to fetch the top 1 row from the specified table.\n",
    "query = f\"SELECT TOP 1 * FROM {table_name};\"\n",
    "try:\n",
    "    # Use read_sql to execute the query and load the result into a DataFrame.\n",
    "    result_df = pd.read_sql(query, conn)\n",
    "    print(result_df)\n",
    "except Exception as e:\n",
    "    print(\"Error executing the query:\", e)\n",
    "\n",
    "# Note: The SQL connection 'conn' remains open for further queries.\n"
   ]
  },
  {
   "cell_type": "code",
   "execution_count": 20,
   "id": "1690280a",
   "metadata": {},
   "outputs": [
    {
     "name": "stdout",
     "output_type": "stream",
     "text": [
      "Libraries imported and connection details defined.\n",
      "Target Database: NEWGLOBALHRMSPR_umeshsir on 109.203.125.63:17507\n"
     ]
    }
   ],
   "source": [
    "# !pip install pymssql\n",
    "import pymssql\n",
    "import pandas as pd  # Optional: Useful for displaying query results nicely\n",
    "import warnings\n",
    "\n",
    "# --- Connection Details for Umesh Database ---\n",
    "# Extracted from your provided configuration\n",
    "SQLSERVER_CONFIG = {\n",
    "    \"USER\": \"umesh.v\",\n",
    "    \"PASSWORD\": \"Hari@082017\",\n",
    "    \"HOST\": \"109.203.125.63\",\n",
    "    \"PORT\": 17507,  # pymssql typically expects port as an integer\n",
    "    \"DATABASE\": \"NEWGLOBALHRMSPR_umeshsir\",\n",
    "}\n",
    "\n",
    "# --- Global variable to hold the connection ---\n",
    "conn = None\n",
    "\n",
    "print(\"Libraries imported and connection details defined.\")\n",
    "print(f\"Target Database: {SQLSERVER_CONFIG['DATABASE']} on {SQLSERVER_CONFIG['HOST']}:{SQLSERVER_CONFIG['PORT']}\")"
   ]
  },
  {
   "cell_type": "code",
   "execution_count": 21,
   "id": "29fe7c78",
   "metadata": {
    "vscode": {
     "languageId": "ruby"
    }
   },
   "outputs": [
    {
     "name": "stdout",
     "output_type": "stream",
     "text": [
      "Error executing the query: 'NoneType' object has no attribute 'cursor'\n"
     ]
    }
   ],
   "source": [
    "# Specify the table name you want to query; change this value as needed.\n",
    "table_name = \"NREC_addjob\"  # Replace with the actual table name\n",
    "\n",
    "# Set pandas display options to ensure a wide view with all columns visible.\n",
    "pd.set_option(\"display.max_columns\", None)\n",
    "pd.set_option(\"display.width\", None)\n",
    "\n",
    "# Construct and execute the SQL query to fetch the top 1 row from the specified table.\n",
    "query = f\"SELECT TOP 1 * FROM {table_name};\"\n",
    "try:\n",
    "    # Use read_sql to execute the query and load the result into a DataFrame.\n",
    "    result_df = pd.read_sql(query, conn)\n",
    "    # Display the DataFrame.\n",
    "    display(result_df)\n",
    "except Exception as e:\n",
    "    print(\"Error executing the query:\", e)\n",
    "\n",
    "# Note: The SQL connection 'conn' remains open; do not close it here.\n"
   ]
  },
  {
   "cell_type": "code",
   "execution_count": 24,
   "id": "8419da2a",
   "metadata": {},
   "outputs": [
    {
     "name": "stdout",
     "output_type": "stream",
     "text": [
      "    ID         JobID JobType  CompanyID  BranchID  DepartmentID  DesignationID  EmployeeStatus  PayGradeID  ExpreinceFrom  ExpreinceTo  PriorityID ExpectedDate QualificationID                                             Duties                                        Description  ReferralAmount RoundID  TotalPosition Skill RequisitionID  Status JobStatus  ClientID  ReplacementID  ClientReplacementEmployeeId  EmployeeID Budget               CreatedOn  CreatedBy CreatedMachineIp               UpdatedOn  UpdatedBy UpdatedMachineIp Preference JDFilePath       JobTitle  HiringManager ClientHiringManager ClosureDate IsPublished  RefCurrencyId  RefAvailableTo  SelectiontypeId  IsRefferd  IsScreening Comment IsCareerPublished ImochaAssessmentSetId ImochaAssessmentSetName ImochaAssessmentDuration ImochaRoundId ImochaRoundName\n",
      "0  1.0  082021-00001     New          1         3             4              0               3           0              2           10           0   2021-09-04               1  Job and Responsibility\\n\\nshould have expert L...  Job and Responsibility\\n\\nshould have expert L...             0.0   2,3,4              2     2             1       2  Approved         0              0                            0           1   None 2021-08-20 12:05:47.927          1    103.61.252.31 2021-08-20 12:07:03.153          1    103.61.252.31          0       None  Sr. Developer             10                None        None        None              0           False                1      False        False    None              None                  None                    None                     None          None            None\n"
     ]
    },
    {
     "name": "stderr",
     "output_type": "stream",
     "text": [
      "C:\\Users\\SAMEER\\AppData\\Local\\Temp\\ipykernel_18980\\1619819868.py:27: UserWarning: pandas only supports SQLAlchemy connectable (engine/connection) or database string URI or sqlite3 DBAPI2 connection. Other DBAPI2 objects are not tested. Please consider using SQLAlchemy.\n",
      "  result_df = pd.read_sql(query, conn)\n"
     ]
    }
   ],
   "source": []
  },
  {
   "cell_type": "code",
   "execution_count": null,
   "id": "fdfac88e",
   "metadata": {},
   "outputs": [],
   "source": []
  },
  {
   "cell_type": "code",
   "execution_count": null,
   "id": "250c04f4",
   "metadata": {},
   "outputs": [],
   "source": []
  }
 ],
 "metadata": {
  "kernelspec": {
   "display_name": "base",
   "language": "python",
   "name": "python3"
  },
  "language_info": {
   "codemirror_mode": {
    "name": "ipython",
    "version": 3
   },
   "file_extension": ".py",
   "mimetype": "text/x-python",
   "name": "python",
   "nbconvert_exporter": "python",
   "pygments_lexer": "ipython3",
   "version": "3.10.9"
  }
 },
 "nbformat": 4,
 "nbformat_minor": 5
}
